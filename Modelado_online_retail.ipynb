{
 "cells": [
  {
   "cell_type": "code",
   "execution_count": null,
   "id": "4808e6ff-5b55-454b-8739-334fd54ce6fd",
   "metadata": {},
   "outputs": [],
   "source": []
  },
  {
   "cell_type": "code",
   "execution_count": null,
   "id": "599e18f7-6f91-49d6-bbeb-67ce8b9a6c2c",
   "metadata": {},
   "outputs": [],
   "source": []
  },
  {
   "cell_type": "code",
   "execution_count": 5,
   "id": "41d0dfd3-ac99-4878-aaf9-7bb4736847df",
   "metadata": {},
   "outputs": [],
   "source": [
    "from pyspark.sql import SparkSession\n",
    "\n",
    "from pyspark.ml.feature import StringIndexer, VectorAssembler\n",
    "from pyspark.ml.regression import LinearRegression\n",
    "from pyspark.ml import Pipeline"
   ]
  },
  {
   "cell_type": "code",
   "execution_count": null,
   "id": "5d51c4ee-2779-4ef5-8f28-faea22a885c5",
   "metadata": {},
   "outputs": [],
   "source": []
  },
  {
   "cell_type": "code",
   "execution_count": 4,
   "id": "3431f984-729d-4050-b333-cf6d611df88e",
   "metadata": {},
   "outputs": [
    {
     "name": "stdout",
     "output_type": "stream",
     "text": [
      "+-------+---------+--------------------+--------+-------------------+-----+-----------+--------------+------------------+---+----+-----+-------+------+-------------------+\n",
      "|Invoice|StockCode|         Description|Quantity|        InvoiceDate|Price|Customer ID|       Country|             Sales|Day|Week|Month|Entrada|Salida|InventarioAcumulado|\n",
      "+-------+---------+--------------------+--------+-------------------+-----+-----------+--------------+------------------+---+----+-----+-------+------+-------------------+\n",
      "| 489437|    10002|INFLATABLE POLITI...|      12|2009-12-01 09:08:00| 0.85|    15362.0|United Kingdom|              10.2|  1|  49|   12|     12|     0|                 12|\n",
      "| 490063|    10002|INFLATABLE POLITI...|       1|2009-12-03 13:49:00| 0.85|    17271.0|United Kingdom|              0.85|  3|  49|   12|      1|     0|                 14|\n",
      "| 490063|    10002|INFLATABLE POLITI...|       1|2009-12-03 13:49:00| 0.85|    17271.0|United Kingdom|              0.85|  3|  49|   12|      1|     0|                 14|\n",
      "| 490136|    10002|INFLATABLE POLITI...|       1|2009-12-03 19:13:00| 0.85|    17432.0|United Kingdom|              0.85|  3|  49|   12|      1|     0|                 15|\n",
      "| 490140|    10002|INFLATABLE POLITI...|       4|2009-12-03 20:03:00| 0.85|    12872.0|United Kingdom|               3.4|  3|  49|   12|      4|     0|                 19|\n",
      "| 490144|    10002|INFLATABLE POLITI...|      12|2009-12-04 08:46:00| 0.85|    13154.0|United Kingdom|              10.2|  4|  49|   12|     12|     0|                 31|\n",
      "| 490229|    10002|INFLATABLE POLITI...|      12|2009-12-04 12:20:00| 0.85|    18223.0|United Kingdom|              10.2|  4|  49|   12|     12|     0|                 43|\n",
      "| 490295|    10002|INFLATABLE POLITI...|      48|2009-12-04 13:47:00| 0.85|    12510.0|         Spain|              40.8|  4|  49|   12|     48|     0|                 91|\n",
      "| 490362|    10002|INFLATABLE POLITI...|       1|2009-12-04 17:31:00| 0.85|    12748.0|United Kingdom|              0.85|  4|  49|   12|      1|     0|                 92|\n",
      "| 490458|    10002|INFLATABLE POLITI...|      48|2009-12-06 11:57:00| 0.85|    12583.0|        France|              40.8|  6|  49|   12|     48|     0|                140|\n",
      "| 490521|    10002|INFLATABLE POLITI...|       1|2009-12-06 15:24:00| 0.85|    13211.0|United Kingdom|              0.85|  6|  49|   12|      1|     0|                141|\n",
      "| 490728|    10002|INFLATABLE POLITI...|       2|2009-12-07 16:40:00| 0.85|    16702.0|United Kingdom|               1.7|  7|  50|   12|      2|     0|                143|\n",
      "| 490959|    10002|INFLATABLE POLITI...|      12|2009-12-08 15:14:00| 0.85|    12682.0|        France|              10.2|  8|  50|   12|     12|     0|                155|\n",
      "| 491155|    10002|INFLATABLE POLITI...|       1|2009-12-10 09:49:00|  1.7|        NaN|United Kingdom|               1.7| 10|  50|   12|      1|     0|                156|\n",
      "| 491506|    10002|INFLATABLE POLITI...|       9|2009-12-11 12:21:00| 0.85|    16470.0|United Kingdom|7.6499999999999995| 11|  50|   12|      9|     0|                165|\n",
      "| 491752|    10002|INFLATABLE POLITI...|      12|2009-12-14 12:02:00| 0.85|    14032.0|United Kingdom|              10.2| 14|  51|   12|     12|     0|                177|\n",
      "| 491826|    10002|INFLATABLE POLITI...|      24|2009-12-14 14:12:00| 0.85|    16019.0|United Kingdom|              20.4| 14|  51|   12|     24|     0|                201|\n",
      "| 491970|    10002|INFLATABLE POLITI...|       1|2009-12-14 18:03:00|  1.7|        NaN|United Kingdom|               1.7| 14|  51|   12|      1|     0|                202|\n",
      "| 492945|    10002|INFLATABLE POLITI...|      12|2009-12-21 13:29:00| 0.85|    14032.0|United Kingdom|              10.2| 21|  52|   12|     12|     0|                214|\n",
      "| 493260|    10002|INFLATABLE POLITI...|       1|2009-12-22 14:31:00|  1.7|        NaN|United Kingdom|               1.7| 22|  52|   12|      1|     0|                215|\n",
      "+-------+---------+--------------------+--------+-------------------+-----+-----------+--------------+------------------+---+----+-----+-------+------+-------------------+\n",
      "only showing top 20 rows\n",
      "\n"
     ]
    }
   ],
   "source": [
    "\n",
    "# Inicializar una sesión de Spark\n",
    "spark = SparkSession.builder.appName(\"example\").getOrCreate()\n",
    "\n",
    "# Cargar el DataFrame desde el archivo Parquet\n",
    "df = spark.read.parquet(\"datasets/online_retail_set\")\n",
    "df.show()\n"
   ]
  },
  {
   "cell_type": "code",
   "execution_count": null,
   "id": "340bba47-8d05-4583-8b1f-c542a38ef89c",
   "metadata": {},
   "outputs": [],
   "source": []
  },
  {
   "cell_type": "code",
   "execution_count": 8,
   "id": "d22f4055-a5f7-4691-aa12-62be761f52b1",
   "metadata": {},
   "outputs": [],
   "source": [
    "# Discretizar la variable 'Country'\n",
    "indexer = StringIndexer(inputCol='Country', outputCol='CountryIndex')\n",
    "\n",
    "# Seleccionar las columnas relevantes\n",
    "features = ['Quantity', 'Price', 'CountryIndex', 'Day', 'Week', 'Month']\n",
    "assembler = VectorAssembler(inputCols=features, outputCol='features')\n",
    "# Modelo de regresión lineal\n",
    "lr = LinearRegression(featuresCol='features', labelCol='InventarioAcumulado')\n",
    "\n",
    "# Pipeline\n",
    "pipeline = Pipeline(stages=[indexer, assembler, lr])\n",
    "\n",
    "# Dividir los datos en conjunto de entrenamiento y prueba\n",
    "train_data, test_data = df.randomSplit([0.8, 0.2], seed=42)\n",
    "\n",
    "# Entrenar el modelo\n",
    "model = pipeline.fit(train_data)\n",
    "\n",
    "# Hacer predicciones en el conjunto de prueba\n",
    "predictions = model.transform(test_data)"
   ]
  },
  {
   "cell_type": "code",
   "execution_count": 9,
   "id": "c81be6d2-00d5-49c1-bb1d-79bf7625fb0f",
   "metadata": {},
   "outputs": [],
   "source": []
  },
  {
   "cell_type": "code",
   "execution_count": 10,
   "id": "1226cf93-c3fb-4339-b3c8-02ab629bbec1",
   "metadata": {},
   "outputs": [
    {
     "name": "stdout",
     "output_type": "stream",
     "text": [
      "+-------------------+------------------+--------+-----+------------+---+----+-----+\n",
      "|InventarioAcumulado|        prediction|Quantity|Price|CountryIndex|Day|Week|Month|\n",
      "+-------------------+------------------+--------+-----+------------+---+----+-----+\n",
      "|                 24| 4849.655454344459|      24| 1.25|         0.0|  1|  49|   12|\n",
      "|                 12| 4824.452855967288|      12| 6.75|         0.0|  1|  49|   12|\n",
      "|                 12| 4824.452855967288|      12| 6.75|         0.0|  1|  49|   12|\n",
      "|                  3| 4808.218752008031|       3| 5.95|         0.0|  1|  49|   12|\n",
      "|                 16| 4833.680708847137|      16| 3.39|         0.0|  1|  49|   12|\n",
      "|                 12| 4827.323836183569|      12| 1.45|         0.0|  1|  49|   12|\n",
      "|                  3| 4809.139632454761|       3| 4.25|         0.0|  1|  49|   12|\n",
      "|                  2| 4805.933456563286|       2| 6.75|         0.0|  1|  49|   12|\n",
      "|                  1| 4802.348094605511|       1| 9.95|         0.0|  1|  49|   12|\n",
      "|                  6| 4815.860095193887|       6|  2.1|         0.0|  1|  49|   12|\n",
      "|                  6| 4815.399654970523|       6| 2.95|         0.0|  1|  49|   12|\n",
      "|                 30| 4860.360823201537|      30|  2.0|         0.0|  1|  49|   12|\n",
      "|                 30| 4860.821263424904|      30| 1.15|         0.0|  1|  49|   12|\n",
      "|                 32| 4863.793855892124|      32|  2.5|         0.0|  1|  49|   12|\n",
      "|                 32| 4863.793855892124|      32|  2.5|         0.0|  1|  49|   12|\n",
      "|                 60| 4913.535566139651|      60|  6.4|         0.0|  1|  49|   12|\n",
      "|                  3| 4801.634465974822|       3| 5.95|         3.0|  1|  49|   12|\n",
      "|                 75|4892.4769297727735|      48| 4.25|         0.0|  1|  49|   12|\n",
      "|                 12| 4827.881781395413|      12| 0.42|         0.0|  1|  49|   12|\n",
      "|                 12| 4827.881781395413|      12| 0.42|         0.0|  1|  49|   12|\n",
      "+-------------------+------------------+--------+-----+------------+---+----+-----+\n",
      "only showing top 20 rows\n",
      "\n"
     ]
    }
   ],
   "source": [
    "\n",
    "# Ver resultados\n",
    "predictions.select('InventarioAcumulado', 'prediction', *features).show()"
   ]
  },
  {
   "cell_type": "code",
   "execution_count": 11,
   "id": "a2f9819a-39d6-4319-aafb-2780045d292d",
   "metadata": {},
   "outputs": [],
   "source": [
    "model.save(\"datasets/path_model\")"
   ]
  },
  {
   "cell_type": "code",
   "execution_count": null,
   "id": "2c19452c-9ce2-4cc0-b62c-6bda605c0442",
   "metadata": {},
   "outputs": [],
   "source": []
  },
  {
   "cell_type": "code",
   "execution_count": null,
   "id": "30b2eacb-23c2-42b5-b9be-47d039acb354",
   "metadata": {},
   "outputs": [],
   "source": []
  },
  {
   "cell_type": "code",
   "execution_count": null,
   "id": "08031c44-a02c-4417-a45e-6f20fc0997c8",
   "metadata": {},
   "outputs": [],
   "source": []
  },
  {
   "cell_type": "code",
   "execution_count": null,
   "id": "f992733d-61d2-4ee3-a089-db1e588f4b55",
   "metadata": {},
   "outputs": [],
   "source": []
  },
  {
   "cell_type": "code",
   "execution_count": null,
   "id": "362f3ee0-6c18-4235-ad64-8e443deeea18",
   "metadata": {},
   "outputs": [],
   "source": []
  },
  {
   "cell_type": "code",
   "execution_count": null,
   "id": "6a4bbb14-d72c-412b-8303-b52782a18350",
   "metadata": {},
   "outputs": [],
   "source": []
  }
 ],
 "metadata": {
  "kernelspec": {
   "display_name": "Python 3 (ipykernel)",
   "language": "python",
   "name": "python3"
  },
  "language_info": {
   "codemirror_mode": {
    "name": "ipython",
    "version": 3
   },
   "file_extension": ".py",
   "mimetype": "text/x-python",
   "name": "python",
   "nbconvert_exporter": "python",
   "pygments_lexer": "ipython3",
   "version": "3.11.6"
  }
 },
 "nbformat": 4,
 "nbformat_minor": 5
}
